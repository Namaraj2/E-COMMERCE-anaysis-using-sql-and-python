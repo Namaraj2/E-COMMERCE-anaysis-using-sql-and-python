{
 "cells": [
  {
   "cell_type": "code",
   "execution_count": 9,
   "id": "cca5aed8-3e10-4156-b766-952c7c2169f6",
   "metadata": {},
   "outputs": [
    {
     "name": "stdout",
     "output_type": "stream",
     "text": [
      "Requirement already satisfied: pandas in c:\\users\\namraj\\appdata\\local\\programs\\python\\python312\\lib\\site-packages (2.2.2)\n",
      "Requirement already satisfied: sqlalchemy in c:\\users\\namraj\\appdata\\local\\programs\\python\\python312\\lib\\site-packages (2.0.30)\n",
      "Requirement already satisfied: psycopg2-binary in c:\\users\\namraj\\appdata\\local\\programs\\python\\python312\\lib\\site-packages (2.9.9)\n",
      "Requirement already satisfied: numpy>=1.26.0 in c:\\users\\namraj\\appdata\\local\\programs\\python\\python312\\lib\\site-packages (from pandas) (1.26.4)\n",
      "Requirement already satisfied: python-dateutil>=2.8.2 in c:\\users\\namraj\\appdata\\local\\programs\\python\\python312\\lib\\site-packages (from pandas) (2.9.0.post0)\n",
      "Requirement already satisfied: pytz>=2020.1 in c:\\users\\namraj\\appdata\\local\\programs\\python\\python312\\lib\\site-packages (from pandas) (2024.1)\n",
      "Requirement already satisfied: tzdata>=2022.7 in c:\\users\\namraj\\appdata\\local\\programs\\python\\python312\\lib\\site-packages (from pandas) (2024.1)\n",
      "Requirement already satisfied: typing-extensions>=4.6.0 in c:\\users\\namraj\\appdata\\local\\programs\\python\\python312\\lib\\site-packages (from sqlalchemy) (4.12.0)\n",
      "Requirement already satisfied: greenlet!=0.4.17 in c:\\users\\namraj\\appdata\\local\\programs\\python\\python312\\lib\\site-packages (from sqlalchemy) (3.0.3)\n",
      "Requirement already satisfied: six>=1.5 in c:\\users\\namraj\\appdata\\local\\programs\\python\\python312\\lib\\site-packages (from python-dateutil>=2.8.2->pandas) (1.16.0)\n"
     ]
    },
    {
     "name": "stderr",
     "output_type": "stream",
     "text": [
      "\n",
      "[notice] A new release of pip is available: 24.0 -> 24.2\n",
      "[notice] To update, run: python.exe -m pip install --upgrade pip\n"
     ]
    }
   ],
   "source": [
    "!pip install pandas sqlalchemy psycopg2-binary\n",
    "\n"
   ]
  },
  {
   "cell_type": "code",
   "execution_count": 14,
   "id": "3296fc17-2d69-4046-ab95-400a206188f3",
   "metadata": {},
   "outputs": [
    {
     "name": "stdout",
     "output_type": "stream",
     "text": [
      "Successfully imported customers.csv into customers table\n",
      "Successfully imported geolocation.csv into geolocation table\n",
      "Successfully imported order_items.csv into order_items table\n",
      "Successfully imported orders.csv into orders table\n",
      "Successfully imported payments.csv into payments table\n",
      "Successfully imported products.csv into products table\n",
      "Successfully imported sellers.csv into sellers table\n"
     ]
    }
   ],
   "source": [
    "import os\n",
    "import pandas as pd\n",
    "from sqlalchemy import create_engine\n",
    "\n",
    "# Database connection details\n",
    "db_config = {\n",
    "    'user': 'postgres',\n",
    "    'password': '123',\n",
    "    'host': 'localhost',\n",
    "    'port': '5432',\n",
    "    'database': 'Ecommerce'\n",
    "}\n",
    "\n",
    "# Create database engine\n",
    "engine = create_engine(f\"postgresql://{db_config['user']}:{db_config['password']}@{db_config['host']}:{db_config['port']}/{db_config['database']}\")\n",
    "\n",
    "# CSV file paths using relative paths\n",
    "csv_files = {\n",
    "    'customers': 'customers.csv',\n",
    "    'geolocation': 'geolocation.csv',\n",
    "    'order_items': 'order_items.csv',\n",
    "    'orders': 'orders.csv',\n",
    "    'payments': 'payments.csv',\n",
    "    'products': 'products.csv',\n",
    "    'sellers': 'sellers.csv'\n",
    "}\n",
    "\n",
    "# Check if files exist and import CSV files into respective tables\n",
    "for table_name, csv_path in csv_files.items():\n",
    "    if not os.path.isfile(csv_path):\n",
    "        print(f\"File not found: {csv_path}\")\n",
    "        continue\n",
    "    try:\n",
    "        # Read CSV file into DataFrame\n",
    "        df = pd.read_csv(csv_path)\n",
    "        \n",
    "        # Import DataFrame into PostgreSQL table\n",
    "        df.to_sql(table_name, engine, if_exists='replace', index=False)\n",
    "        \n",
    "        # Print success message\n",
    "        print(f\"Successfully imported {csv_path} into {table_name} table\")\n",
    "    except Exception as e:\n",
    "        print(f\"Failed to import {csv_path} into {table_name} table: {e}\")\n"
   ]
  },
  {
   "cell_type": "code",
   "execution_count": null,
   "id": "f6c587a0-e25c-44c8-9d44-b16ad4e1a5a7",
   "metadata": {},
   "outputs": [],
   "source": []
  }
 ],
 "metadata": {
  "kernelspec": {
   "display_name": "Python 3 (ipykernel)",
   "language": "python",
   "name": "python3"
  },
  "language_info": {
   "codemirror_mode": {
    "name": "ipython",
    "version": 3
   },
   "file_extension": ".py",
   "mimetype": "text/x-python",
   "name": "python",
   "nbconvert_exporter": "python",
   "pygments_lexer": "ipython3",
   "version": "3.12.3"
  }
 },
 "nbformat": 4,
 "nbformat_minor": 5
}
